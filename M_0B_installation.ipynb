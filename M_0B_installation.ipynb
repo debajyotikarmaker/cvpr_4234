{
 "cells": [
  {
   "cell_type": "markdown",
   "metadata": {},
   "source": [
    "# Software installation"
   ]
  },
  {
   "cell_type": "markdown",
   "metadata": {},
   "source": [
    "### Installer\n",
    "\n",
    "- [Download Anaconda installer](https://www.anaconda.com/products/individua)\n",
    "- [Download Miniconda installer](https://docs.conda.io/en/latest/miniconda.html)\n",
    "\n",
    "\n",
    "For installation guide:  [Installation Guide](https://docs.anaconda.com/anaconda/install/)\n"
   ]
  },
  {
   "cell_type": "markdown",
   "metadata": {},
   "source": [
    "### Virtual Environment\n",
    "\n",
    "\n",
    "List of all my environments:\n",
    ">  conda env list\n",
    "\n",
    "Create a virtual enviroment:\n",
    "> conda create --name cvpr python=3.8\n",
    "\n",
    "Delete a virtual enviroment\n",
    "> conda env remove --name cvpr"
   ]
  },
  {
   "cell_type": "markdown",
   "metadata": {},
   "source": [
    "### Activate Virtual Enviroment\n",
    "\n",
    "> conda activate cvpr\n"
   ]
  },
  {
   "cell_type": "markdown",
   "metadata": {},
   "source": [
    "### Integrate Conda tab in the Jupyter file browser\n",
    "\n",
    "> conda install nb_conda\n",
    "\n",
    "__Researt your virtual enviroment__\n",
    "\n",
    "> conda deactivate\n",
    "\n",
    "> conda activate cvpr"
   ]
  },
  {
   "cell_type": "markdown",
   "metadata": {},
   "source": [
    "### Install Tensorflow\n",
    "\n",
    "- conda\n",
    "\n",
    "> conda install -c anaconda tensorflow\n",
    "\n",
    "> conda install -c anaconda tensorflow-gpu\n",
    "\n",
    "- pip\n",
    "\n",
    "> pip install tensorflow"
   ]
  },
  {
   "cell_type": "markdown",
   "metadata": {},
   "source": [
    "### Install Libraries from YML file"
   ]
  },
  {
   "cell_type": "markdown",
   "metadata": {},
   "source": [
    "> conda env update --file ./resources/install/cvpr.yml"
   ]
  },
  {
   "cell_type": "markdown",
   "metadata": {},
   "source": [
    "### Integrate kernel with Jupyter\n",
    "\n",
    "&#x1F534; _make sure you are running the command promp / terminal with administrative previllage_\n",
    "\n",
    "&#x1F534; _make sure you are inside the virtual enviroment_\n",
    "\n",
    "\n",
    "List all kernels and grap the name of the kernel\n",
    "> jupyter kernelspec list\n",
    "\n",
    "Register Enviroment\n",
    "> python -m ipykernel install --user --name cvpr --display-name \"cvpr tf2.4 py3.8\"\n",
    "\n",
    "Remove Enviroment\n",
    "> jupyter kernelspec remove cvpr"
   ]
  },
  {
   "cell_type": "markdown",
   "metadata": {},
   "source": [
    "### Enable nbextension in Jupyter notebook\n",
    "\n",
    "> jupyter contrib nbextension install --user"
   ]
  },
  {
   "cell_type": "markdown",
   "metadata": {},
   "source": [
    "### Testing your Enviroment\n",
    "\n",
    "Lunch your Jupyter Notebook\n",
    "> jupyter notebook"
   ]
  },
  {
   "cell_type": "code",
   "execution_count": 1,
   "metadata": {},
   "outputs": [
    {
     "name": "stdout",
     "output_type": "stream",
     "text": [
      "Python 3.8.5 (default, Sep  3 2020, 21:29:08) [MSC v.1916 64 bit (AMD64)]\n",
      "\n",
      "Tensorflow version: 2.4.1\n",
      "Keras Version: 2.4.0\n",
      "\n",
      "Pandas: 1.1.3\n",
      "Scikit-Learn: 0.23.2\n",
      "Numpy: 1.19.2\n",
      "Matplotlib: 3.3.2\n",
      "\n",
      "GPU is  available\n",
      "CUDA: True\n"
     ]
    }
   ],
   "source": [
    "import sys\n",
    "import tensorflow as tf\n",
    "import pandas as pd\n",
    "import sklearn as sk\n",
    "import numpy as np\n",
    "import matplotlib\n",
    "\n",
    "\n",
    "print(f\"Python {sys.version}\")\n",
    "print()\n",
    "print(f\"Tensorflow version: {tf.__version__}\")\n",
    "print(f\"Keras Version: {tf.keras.__version__}\")\n",
    "print()\n",
    "print(f\"Pandas: {pd.__version__}\")\n",
    "print(f\"Scikit-Learn: {sk.__version__}\")\n",
    "print(f\"Numpy: {np.__version__}\")\n",
    "print(f\"Matplotlib: {matplotlib.__version__}\")\n",
    "print()\n",
    "print(\"GPU is \", \"available\" if tf.config.list_physical_devices('GPU') else \"not available\")\n",
    "print(f\"CUDA: {tf.test.is_built_with_cuda()}\")\n"
   ]
  },
  {
   "cell_type": "code",
   "execution_count": null,
   "metadata": {},
   "outputs": [],
   "source": []
  }
 ],
 "metadata": {
  "kernelspec": {
   "display_name": "tf24_py38_gpu",
   "language": "python",
   "name": "tf24_gpu"
  },
  "language_info": {
   "codemirror_mode": {
    "name": "ipython",
    "version": 3
   },
   "file_extension": ".py",
   "mimetype": "text/x-python",
   "name": "python",
   "nbconvert_exporter": "python",
   "pygments_lexer": "ipython3",
   "version": "3.8.8"
  }
 },
 "nbformat": 4,
 "nbformat_minor": 4
}
