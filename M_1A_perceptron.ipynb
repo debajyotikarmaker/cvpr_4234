{
 "cells": [
  {
   "cell_type": "markdown",
   "id": "2becc585",
   "metadata": {},
   "source": [
    "# Neural Networks"
   ]
  },
  {
   "cell_type": "markdown",
   "id": "b2bfe174",
   "metadata": {},
   "source": [
    "Universal Function Aproximator\n",
    "\n",
    "1. Regression\n",
    "2. Classification\n",
    "\n",
    "Neural network is a set of neurons organized in layers. It endeavors to recognize underlying relationships in a set of data through a process that mimics the way the human brain operates. In this sense, neural networks refer to systems of neurons, either organic or artificial in nature.\n",
    "\n",
    "![Neural Network](resources/images/M_1/Deep-Neural-Network-architecture.png)"
   ]
  },
  {
   "cell_type": "markdown",
   "id": "b11d3a11",
   "metadata": {},
   "source": [
    "\n",
    "| $$f(x)=\\frac{d}{dx}\\left( \\int_{0}^{x} f(u)\\,du\\right)$$ | $$\\frac{\\partial f(x)}{\\partial x} = \\lim\\limits_{h \\rightarrow 0} \\frac{f(x+h) - f(x)}{h}  $$ | $$\\nabla_WL(W)=\\frac{1}{N}\\sum_{i=1}^{N}\\nabla_W L_i(x_i,y_i,W)+\\lambda \\nabla_W R(W)$$ |\n",
    "|:-------:|:-------:|:-----:|\n",
    "| ![](resources/images/johnny_deep/1540800052-johnny.jpg)       | ![](resources/images/johnny_deep/johnny-depp-pirates-of-the-caribbean.jpg)       | ![](resources/images/johnny_deep/AlertFastBeaver-size_restricted.gif)     |"
   ]
  },
  {
   "cell_type": "markdown",
   "id": "66730d4b",
   "metadata": {},
   "source": [
    "## Perceptron\n",
    "\n",
    "Lets start with this idea of perceptron - being a model of single neuron; the simplest posiible artificial neural nekwork that we can build. This will serve as the building blocks for complex neural networks that we are going to create later in this course. \n",
    "\n",
    "\n",
    "The idea of a perceptron is that there is a single neuron (blue circle in figure 1) and the neuron can take inputs. For this perticular example (figure 1) the neuron takes 2 inputs $X_1$ & $X_2$ and produces the a output $Y$.\n",
    "\n",
    "\n",
    "![Perceptron](resources/images/M_1/perceptron.jpg \"Mathmetical model of a perceptron\")"
   ]
  },
  {
   "cell_type": "markdown",
   "id": "cba2ff1a",
   "metadata": {},
   "source": [
    "#### What happens inside the neuron ? \n",
    "\n",
    "There are a few mathematical operation hapenning inside the neuron. Lets break it down into three steps:\n",
    "\n",
    "\n",
    "1. __Weighted sum__\n",
    "\n",
    "    Each input ($X_1$ & $X_2$) is connected to the neuron through an edge. These inputs can flow into the neuron but the edges or connections has a weights ($W_1$ and $W_2$) associated with them. Inside the neuron it produces the sum of all the inputs ($X_i$) multipled by the weights($W_i$). It can be expressed as the following equation.\n",
    "\n",
    "    $$ \\sum_{i=1}^{n} {W_i X_i} = W_1  X_1 + W_2  X_2$$\n",
    "\n",
    "    In this perticular example, there are only two inputs ($n=2$).  So its very easy to write down the equation. As we start building more complex networks in future chapters - we might realize there are 100 or 1000 or 10M inputs flowing into a neuron; but the formula remains the same.\n",
    "\n",
    "\n",
    "2. __Bias__\n",
    "\n",
    "    What if all the input values are zero ? Then the weighted sum is always going to be zero. That can't be right !! Bias makes it easier or harder for the neuron to fire i.e. we want to bias the output in a given direction.\n",
    "    \n",
    "    To understand why we need bias neuron, let’s see what happens when there is no bias input at all. It means that there will be only two input $X_1$ & $X_2$ and nothing more:\n",
    "    \n",
    "    $$ Y= \\sum_{i=1}^{n} {W_i X_i} $$\n",
    "    \n",
    "    Such a model is not very flexible. It means that the line needs to go through the point (0, 0). A Slope of the line may change, however, it is tied to the coordinate system’s origin. Take a look at this visualization:\n",
    "        \n",
    "    That’s the reason why we need bias neurons in neural networks. Without these spare bias weights, our model has quite limited “movement” while searching through solution space. Bias in Neural Networks can be thought of as analogous to the role of a constant in a linear function, whereby the line is effectively transposed by the constant value. Work similar to the y-intercept of a linear equation.\n",
    "    \n",
    "    $$ Y= \\sum_{i=1}^{n} {W_i X_i} + b $$\n",
    "\n",
    "\n",
    "| $$Y=Wx$$ | $$ Y=Wx+b $$ |\n",
    "|:----------:|:-------:|\n",
    "| ![Perceptron](resources/images/M_1/bias.gif)       | ![Perceptron](resources/images/M_1/slope.gif)       |\n",
    "\n",
    "    \n",
    "3. __Activation function__\n",
    "\n",
    "    This is a key concept in neural net based machine learning. As we move forward we will see there is a wide variety of activation functions. Typically what an activation function does, is, it allows you to confirm the output to some desired range. In other words, it can be asserted that a neuron should fire or not - in terms of the idea of a brain i.e. what happens when the output comes out from the neuron. \n",
    "\n",
    "4. __Supervised Learning__ Essentially, a strategy that involves a teacher that is smarter than the network itself. For example, let’s take the facial recognition example. The teacher shows the network a bunch of faces, and the teacher already knows the name associated with each face. The network makes its guesses, then the teacher provides the network with the answers. The network can then compare its answers to the known “correct” ones and make adjustments according to its errors. Our first neural network in the next section will follow this model.\n",
    "\n",
    "\n",
    "The perceptron’s error can be defined as the difference between the desired answer and its guess.\n",
    "\n",
    "$$ error = target - prediction $$\n",
    "        \n",
    "In the case of **_AND_**, the output has only two possible values: __1__ or __0__. This means there are only three possible errors. If the perceptron guesses the correct answer, then the prediction equals the target output and the error is 0. If the correct answer is 0 and we've guessed 1, then the error is -1. If the correct answer is 1 and we've guessed 0, then the error is +1.\n",
    "\n",
    "\n",
    "| TARGET | PREDICTION | ERROR |\n",
    "|:------:|:----------:|:-----:|\n",
    "|    0   |      1     |   -1  |\n",
    "|    0   |      0     |   0   |\n",
    "|    1   |      1     |   0   |\n",
    "|    1   |      0     |   1   |\n",
    "\n",
    "\n",
    "\n",
    "| - | - |\n",
    "|:-:|:-:|\n",
    "| This error is the determining factor in how the perceptron's weights should be adjusted. For any given weight, what we are looking to calculate is the change in weight, often called $ \\Delta W $ (or “delta” weight).  | ![music](resources/images/M_1/music.gif) |\n",
    "\n",
    "$$\n",
    "\\begin{align*} \n",
    "W_i & = W_i + \\Delta W_i  \\\\ \n",
    "  & = W_i + e * X_i\n",
    "\\end{align*}\n",
    "$$\n",
    "\n",
    "__Learning rate__ In machine learning and statistics, the learning rate is a tuning parameter in an optimization algorithm that determines the step size at each iteration while moving toward a minimum of a loss function.\n",
    "\n",
    "Notice that a high learning constant means the weight will change more drastically. This may help us arrive at a solution more quickly, but with such large changes in weight it’s possible we will overshoot the optimal weights. With a small learning constant, the weights will be adjusted slowly, requiring more training time but allowing the network to make very small adjustments that could improve the network’s overall accuracy.\n",
    "\n",
    "$$ W_i = W_i + e * X_i * lr $$\n",
    "\n",
    "here, $lr$ represents the learning rate.\n"
   ]
  },
  {
   "cell_type": "markdown",
   "id": "b3e0f675",
   "metadata": {},
   "source": [
    "``` python\n",
    "1. Provide the perceptron with inputs for which there is a known answer.\n",
    "2. Ask the perceptron to guess an answer.\n",
    "3. Compute the error. (Did it get the answer right or wrong?)\n",
    "4. Adjust all the weights according to the error.\n",
    "5. Return to Step 1 and repeat!\n",
    "```"
   ]
  },
  {
   "cell_type": "code",
   "execution_count": null,
   "id": "3c2d469c",
   "metadata": {},
   "outputs": [],
   "source": []
  },
  {
   "cell_type": "markdown",
   "id": "5b01e84d",
   "metadata": {},
   "source": [
    "\n",
    "\n"
   ]
  },
  {
   "cell_type": "markdown",
   "id": "559cdc7d",
   "metadata": {},
   "source": [
    "### Truth-Table for AND, OR, XOR:\n",
    "\n",
    "| $$X_1$$ | $$X_2$$ | $$AND$$ | $$OR$$ | $$XOR$$ |\n",
    "|:-------:|:-------:|:-------:|:------:|:-------:|\n",
    "| 0       | 0       | 0       | 0      | 0       |\n",
    "| 0       | 1       | 0       | 1      | 1       |\n",
    "| 1       | 0       | 0       | 1      | 1       |\n",
    "| 1       | 1       | 1       | 1      | 1       |\n",
    "|         |         |         |        |         |"
   ]
  },
  {
   "cell_type": "code",
   "execution_count": 1,
   "id": "741efa6c",
   "metadata": {},
   "outputs": [],
   "source": [
    "import matplotlib.pyplot as plt\n",
    "import random\n",
    "import math"
   ]
  },
  {
   "cell_type": "code",
   "execution_count": 2,
   "id": "e2b3a78b",
   "metadata": {},
   "outputs": [],
   "source": [
    "X1 = [0,0,1,1]\n",
    "X2 = [0,1,0,1]\n",
    "Y  = [0,0,0,1]"
   ]
  },
  {
   "cell_type": "code",
   "execution_count": 3,
   "id": "41dddd4a",
   "metadata": {},
   "outputs": [
    {
     "data": {
      "image/png": "[encoded data removed]",
      "text/plain": [
       "<Figure size 432x288 with 1 Axes>"
      ]
     },
     "metadata": {
      "needs_background": "light"
     },
     "output_type": "display_data"
    }
   ],
   "source": [
    "plt.figure()\n",
    "\n",
    "for i in range(len(Y)):\n",
    "    if Y[i] == 0:\n",
    "        plt.plot(X1[i], X2[i], \"ro\")\n",
    "    else:\n",
    "        plt.plot(X1[i], X2[i], \"go\")\n",
    "        \n",
    "plt.show()"
   ]
  },
  {
   "cell_type": "code",
   "execution_count": 4,
   "id": "742cb83b",
   "metadata": {},
   "outputs": [
    {
     "name": "stdout",
     "output_type": "stream",
     "text": [
      "[0.10035610661047878, 0.2990192251365278] 0.3395712640627325\n"
     ]
    }
   ],
   "source": [
    "W = [random.random(), random.random()]\n",
    "b = random.random()\n",
    "\n",
    "print(W, b)\n",
    "\n",
    "lr=0.02\n",
    "theta=0.5"
   ]
  },
  {
   "cell_type": "code",
   "execution_count": 5,
   "id": "9237e143",
   "metadata": {},
   "outputs": [
    {
     "name": "stdout",
     "output_type": "stream",
     "text": [
      "Epoch: 0\n",
      "[0 , 0] = 0\n",
      "[0 , 1] = 1\n",
      "[1 , 0] = 0\n",
      "[1 , 1] = 1\n",
      "Loss: 1.0\n",
      "===------------------------------===\n",
      "Epoch: 1\n",
      "[0 , 0] = 0\n",
      "[0 , 1] = 1\n",
      "[1 , 0] = 0\n",
      "[1 , 1] = 1\n",
      "Loss: 1.0\n",
      "===------------------------------===\n",
      "Epoch: 2\n",
      "[0 , 0] = 0\n",
      "[0 , 1] = 1\n",
      "[1 , 0] = 0\n",
      "[1 , 1] = 1\n",
      "Loss: 1.0\n",
      "===------------------------------===\n",
      "Epoch: 3\n",
      "[0 , 0] = 0\n",
      "[0 , 1] = 1\n",
      "[1 , 0] = 0\n",
      "[1 , 1] = 1\n",
      "Loss: 1.0\n",
      "===------------------------------===\n",
      "Epoch: 4\n",
      "[0 , 0] = 0\n",
      "[0 , 1] = 0\n",
      "[1 , 0] = 0\n",
      "[1 , 1] = 1\n",
      "Loss: 0\n",
      "===------------------------------===\n"
     ]
    }
   ],
   "source": [
    "epoch = 0\n",
    "count = 0\n",
    "\n",
    "while count < 4:\n",
    "    \n",
    "    total_error = 0\n",
    "    print(f\"Epoch: {epoch}\")\n",
    "    for i in range(len(X1)):\n",
    "        weighted_sum = W[0]*X1[i] + W[1]*X2[i] + b\n",
    "        pred = 0\n",
    "        if weighted_sum > theta:\n",
    "            pred = 1\n",
    "        \n",
    "        error =  Y[i] - pred\n",
    "        if error != 0:\n",
    "            count = 0\n",
    "            total_error += math.sqrt(error**2)\n",
    "            \n",
    "            W[0] += lr * error * X1[i]\n",
    "            W[1] += lr * error * X2[i]\n",
    "            b    += lr * error\n",
    "        else:\n",
    "            count += 1\n",
    "\n",
    "        print(f\"[{X1[i]} , {X2[i]}] = {pred}\")\n",
    "    \n",
    "    print(f\"Loss: {total_error}\")\n",
    "    print(\"===------------------------------===\")\n",
    "    epoch += 1"
   ]
  },
  {
   "cell_type": "code",
   "execution_count": 6,
   "id": "1e11856f",
   "metadata": {},
   "outputs": [
    {
     "name": "stdout",
     "output_type": "stream",
     "text": [
      "W0 =  0.10035610661047878\n",
      "W1 =  0.21901922513652777\n",
      "b =  0.25957126406273245\n"
     ]
    }
   ],
   "source": [
    "print(\"W0 = \", W[0])\n",
    "print(\"W1 = \", W[1])\n",
    "print(\"b = \", b)"
   ]
  },
  {
   "cell_type": "code",
   "execution_count": 7,
   "id": "e8335534",
   "metadata": {},
   "outputs": [
    {
     "data": {
      "image/png": "[encoded data removed]",
      "text/plain": [
       "<Figure size 432x288 with 1 Axes>"
      ]
     },
     "metadata": {
      "needs_background": "light"
     },
     "output_type": "display_data"
    }
   ],
   "source": [
    "plt.figure()\n",
    "\n",
    "for i in range(len(Y)):\n",
    "    if Y[i] == 0:\n",
    "        plt.plot(X1[i], X2[i], \"ro\")\n",
    "    else:\n",
    "        plt.plot(X1[i], X2[i], \"go\")\n",
    "        \n",
    "\n",
    "xintr=(theta-b)/W[0]\n",
    "yintr=(theta-b)/W[1]\n",
    "\n",
    "slope=-yintr/xintr\n",
    "xx=plt.xlim()\n",
    "yeq = []\n",
    "for x in xx:\n",
    "    yeq.append(slope*x+yintr)\n",
    "plt.plot(xx,yeq)\n",
    "plt.show()"
   ]
  },
  {
   "cell_type": "code",
   "execution_count": null,
   "id": "3ff3d2e9",
   "metadata": {},
   "outputs": [],
   "source": []
  },
  {
   "cell_type": "code",
   "execution_count": null,
   "id": "a6abee99",
   "metadata": {},
   "outputs": [],
   "source": []
  },
  {
   "cell_type": "code",
   "execution_count": 8,
   "id": "946d8406",
   "metadata": {},
   "outputs": [
    {
     "data": {
      "image/png": "[encoded data removed]",
      "text/plain": [
       "<Figure size 1440x360 with 2 Axes>"
      ]
     },
     "metadata": {
      "needs_background": "light"
     },
     "output_type": "display_data"
    }
   ],
   "source": [
    "import matplotlib.pyplot as plt\n",
    "import numpy as np\n",
    "import random\n",
    "import math\n",
    "from IPython import display\n",
    "\n",
    "X1 = [0,0,1,1]\n",
    "X2 = [0,1,0,1]\n",
    "# Y  = [0,0,0,1] # AND\n",
    "Y  = [0,1,1,1] # OR\n",
    "# Y  = [0,1,1,0] # XOR\n",
    "\n",
    "W = [random.random(), random.random()]\n",
    "b = random.random()\n",
    "\n",
    "# W = [random.uniform(-1,1), random.uniform(-1,1)]\n",
    "# b = random.uniform(-1,1)\n",
    "\n",
    "lr=0.01\n",
    "theta=0.5\n",
    "epoch = 0\n",
    "count = 0\n",
    "\n",
    "loss = []\n",
    "while count < 4:\n",
    "    \n",
    "    total_error = 0\n",
    "    for i in range(len(X1)):\n",
    "        weighted_sum = W[0]*X1[i] + W[1]*X2[i] + b\n",
    "        pred = 0\n",
    "        if weighted_sum > theta:\n",
    "            pred = 1\n",
    "        \n",
    "        error =  Y[i] - pred\n",
    "        if error != 0:\n",
    "            count = 0\n",
    "            total_error += math.sqrt(error**2)\n",
    "            \n",
    "            W[0] += lr * error * X1[i]\n",
    "            W[1] += lr * error * X2[i]\n",
    "            b    += lr * error\n",
    "\n",
    "        else:\n",
    "            count += 1\n",
    "    loss.append(1/4*total_error)\n",
    "    \n",
    "    plt.figure(figsize=(20,5))\n",
    "    display.clear_output(wait=True)\n",
    "    plt.subplot(1,2,1)\n",
    "    for i in range(len(Y)):\n",
    "        if Y[i] == 0:\n",
    "            plt.plot(X1[i], X2[i], \"ro\")\n",
    "        else:\n",
    "            plt.plot(X1[i], X2[i], \"go\")\n",
    "    plt.xlim([-1, 2])\n",
    "    plt.ylim([-1, 2])\n",
    "\n",
    "    xintr=(theta-b)/W[0]\n",
    "    yintr=(theta-b)/W[1]\n",
    "\n",
    "    slope=-yintr/xintr\n",
    "    xx=plt.xlim()\n",
    "\n",
    "    yeq = []\n",
    "    for x in xx:\n",
    "        yeq.append(slope*x+yintr)\n",
    "    plt.plot(xx,yeq)\n",
    "    \n",
    "    \n",
    "    plt.subplot(1,2,2)\n",
    "    plt.plot(loss)\n",
    "    \n",
    "    plt.show()\n",
    "\n",
    "    epoch += 1\n",
    "        \n",
    "        "
   ]
  },
  {
   "cell_type": "code",
   "execution_count": null,
   "id": "a8bde1f7",
   "metadata": {},
   "outputs": [],
   "source": []
  },
  {
   "cell_type": "code",
   "execution_count": 9,
   "id": "bd1450c9",
   "metadata": {},
   "outputs": [
    {
     "data": {
      "text/html": [
       "<div>\n",
       "<style scoped>\n",
       "    .dataframe tbody tr th:only-of-type {\n",
       "        vertical-align: middle;\n",
       "    }\n",
       "\n",
       "    .dataframe tbody tr th {\n",
       "        vertical-align: top;\n",
       "    }\n",
       "\n",
       "    .dataframe thead th {\n",
       "        text-align: right;\n",
       "    }\n",
       "</style>\n",
       "<table border=\"1\" class=\"dataframe\">\n",
       "  <thead>\n",
       "    <tr style=\"text-align: right;\">\n",
       "      <th></th>\n",
       "      <th>X</th>\n",
       "      <th>Y</th>\n",
       "      <th>LABEL</th>\n",
       "    </tr>\n",
       "  </thead>\n",
       "  <tbody>\n",
       "    <tr>\n",
       "      <th>0</th>\n",
       "      <td>71</td>\n",
       "      <td>32</td>\n",
       "      <td>0</td>\n",
       "    </tr>\n",
       "    <tr>\n",
       "      <th>1</th>\n",
       "      <td>65</td>\n",
       "      <td>88</td>\n",
       "      <td>0</td>\n",
       "    </tr>\n",
       "    <tr>\n",
       "      <th>2</th>\n",
       "      <td>13</td>\n",
       "      <td>27</td>\n",
       "      <td>1</td>\n",
       "    </tr>\n",
       "    <tr>\n",
       "      <th>3</th>\n",
       "      <td>67</td>\n",
       "      <td>2</td>\n",
       "      <td>0</td>\n",
       "    </tr>\n",
       "    <tr>\n",
       "      <th>4</th>\n",
       "      <td>60</td>\n",
       "      <td>27</td>\n",
       "      <td>0</td>\n",
       "    </tr>\n",
       "  </tbody>\n",
       "</table>\n",
       "</div>"
      ],
      "text/plain": [
       "    X   Y  LABEL\n",
       "0  71  32      0\n",
       "1  65  88      0\n",
       "2  13  27      1\n",
       "3  67   2      0\n",
       "4  60  27      0"
      ]
     },
     "execution_count": 9,
     "metadata": {},
     "output_type": "execute_result"
    }
   ],
   "source": [
    "import pandas as pd\n",
    "\n",
    "df = pd.read_csv('./resources/M_1A_data2.csv')\n",
    "df.head()"
   ]
  },
  {
   "cell_type": "code",
   "execution_count": 10,
   "id": "53426931",
   "metadata": {},
   "outputs": [
    {
     "data": {
      "image/png": "[encoded data removed]",
      "text/plain": [
       "<Figure size 432x288 with 1 Axes>"
      ]
     },
     "metadata": {
      "needs_background": "light"
     },
     "output_type": "display_data"
    }
   ],
   "source": [
    "X1 = df[\"X\"].values.tolist()\n",
    "X2 = df[\"Y\"].values.tolist()\n",
    "Y = df[\"LABEL\"].values.tolist()\n",
    "\n",
    "for i in range(len(Y)):\n",
    "    if Y[i] == 0:\n",
    "        plt.plot(X1[i], X2[i], \"r+\")\n",
    "    else:\n",
    "        plt.plot(X1[i], X2[i], \"g+\")\n"
   ]
  },
  {
   "cell_type": "code",
   "execution_count": 11,
   "id": "18a7d59d",
   "metadata": {},
   "outputs": [
    {
     "data": {
      "image/png": "[encoded data removed]",
      "text/plain": [
       "<Figure size 1440x360 with 2 Axes>"
      ]
     },
     "metadata": {
      "needs_background": "light"
     },
     "output_type": "display_data"
    },
    {
     "name": "stdout",
     "output_type": "stream",
     "text": [
      "Epoch: 516 Loss: 0.0\n"
     ]
    }
   ],
   "source": [
    "import matplotlib.pyplot as plt\n",
    "import numpy as np\n",
    "import random\n",
    "import math\n",
    "from IPython import display\n",
    "from scipy.signal import savgol_filter\n",
    "\n",
    "\n",
    "W = [random.random(), random.random()]\n",
    "b = random.random()\n",
    "\n",
    "# W = [random.uniform(-1,1), random.uniform(-1,1)]\n",
    "# b = random.uniform(-1,1)\n",
    "\n",
    "lr = 0.1\n",
    "theta=0.5\n",
    "\n",
    "epoch = 0\n",
    "count = 0\n",
    "\n",
    "\n",
    "loss = []\n",
    "\n",
    "while count < len(X1):\n",
    "    \n",
    "    total_error = 0\n",
    "    for i in range(len(X1)):\n",
    "        weighted_sum = W[0]*X1[i] + W[1]*X2[i] + b\n",
    "        pred = 0\n",
    "        if weighted_sum > theta:\n",
    "            pred = 1\n",
    "\n",
    "        error =  Y[i] - pred\n",
    "        if error != 0:\n",
    "            count = 0\n",
    "            total_error += math.sqrt(error**2)\n",
    "            \n",
    "            W[0] += lr * error * X1[i]\n",
    "            W[1] += lr * error * X2[i]\n",
    "            b    += lr * error\n",
    "        else:\n",
    "            count += 1\n",
    "    \n",
    "    loss.append(1/len(X1)*total_error)\n",
    "    \n",
    "    plt.figure(figsize=(20,5))\n",
    "    #loss.append([epoch, total_error])   \n",
    "    display.clear_output(wait=True)\n",
    "    plt.subplot(1,2,1)\n",
    "\n",
    "    for i in range(len(Y)):\n",
    "        if Y[i] == 0:\n",
    "            plt.plot(X1[i], X2[i], \"r+\")\n",
    "        else:\n",
    "            plt.plot(X1[i], X2[i], \"g+\")\n",
    "\n",
    "        plt.xlim([-10, 110])\n",
    "        plt.ylim([-10, 110])\n",
    "\n",
    "        xintr=(theta-b)/W[0]\n",
    "        yintr=(theta-b)/W[1]\n",
    "\n",
    "        slope = -yintr/xintr\n",
    "        xx = plt.xlim()\n",
    "#                 print(xx)\n",
    "        yeq = []\n",
    "        for x in xx:\n",
    "            yeq.append(slope*x+yintr)\n",
    "        plt.plot(xx,yeq, 'b-')\n",
    "\n",
    "    plt.title(f\"Epoch: {epoch} Loss: {total_error}\")\n",
    "\n",
    "    plt.subplot(1,2,2)\n",
    "    plt.plot(loss, alpha=0.3)\n",
    "    if epoch > 20:\n",
    "        yhat = savgol_filter(loss, 21, 3) # window size 51, polynomial order 3\n",
    "        plt.plot(yhat, 'r--', lw=3)\n",
    "\n",
    "    plt.show()\n",
    "            \n",
    "    print(f\"Epoch: {epoch} Loss: {loss[-1]}\")\n",
    "    epoch += 1\n",
    "        \n",
    "        "
   ]
  },
  {
   "cell_type": "code",
   "execution_count": null,
   "id": "d47d53fa",
   "metadata": {},
   "outputs": [],
   "source": []
  }
 ],
 "metadata": {
  "kernelspec": {
   "display_name": "tf24_py38_gpu",
   "language": "python",
   "name": "tf24_gpu"
  },
  "language_info": {
   "codemirror_mode": {
    "name": "ipython",
    "version": 3
   },
   "file_extension": ".py",
   "mimetype": "text/x-python",
   "name": "python",
   "nbconvert_exporter": "python",
   "pygments_lexer": "ipython3",
   "version": "3.8.8"
  }
 },
 "nbformat": 4,
 "nbformat_minor": 5
}
